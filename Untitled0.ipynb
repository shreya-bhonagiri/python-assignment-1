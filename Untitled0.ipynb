{
  "nbformat": 4,
  "nbformat_minor": 0,
  "metadata": {
    "colab": {
      "name": "Untitled0.ipynb",
      "provenance": [],
      "authorship_tag": "ABX9TyMuc/bXvCH34areaYqQImRT",
      "include_colab_link": true
    },
    "kernelspec": {
      "name": "python3",
      "display_name": "Python 3"
    }
  },
  "cells": [
    {
      "cell_type": "markdown",
      "metadata": {
        "id": "view-in-github",
        "colab_type": "text"
      },
      "source": [
        "<a href=\"https://colab.research.google.com/github/shreya-bhonagiri/python-assignment-1/blob/master/Untitled0.ipynb\" target=\"_parent\"><img src=\"https://colab.research.google.com/assets/colab-badge.svg\" alt=\"Open In Colab\"/></a>"
      ]
    },
    {
      "cell_type": "code",
      "metadata": {
        "id": "qrBHOnM00Y6s",
        "colab_type": "code",
        "colab": {
          "base_uri": "https://localhost:8080/",
          "height": 84
        },
        "outputId": "a7ebb210-ce53-42e1-c919-c11c607a29aa"
      },
      "source": [
        "#question 1\n",
        "print(0.1+0.2)    #add the float values\n",
        "print(87>78)      #statement T/F\n",
        "print((0.1+0.2)==0.3)  #statement T/F\n",
        "print(\"predict\" \"output\",\".......\")"
      ],
      "execution_count": 2,
      "outputs": [
        {
          "output_type": "stream",
          "text": [
            "0.30000000000000004\n",
            "True\n",
            "False\n",
            "predictoutput .......\n"
          ],
          "name": "stdout"
        }
      ]
    },
    {
      "cell_type": "code",
      "metadata": {
        "id": "pA3gq_ix2jpX",
        "colab_type": "code",
        "colab": {
          "base_uri": "https://localhost:8080/",
          "height": 262
        },
        "outputId": "6211c12d-732e-4bb6-aafd-925e80d1c218"
      },
      "source": [
        "#question 2\n",
        "print(\"Prints\",\"Multiple\",\"Messages\\n\")\n",
        "print(\"concatenate\"+\"two strings\\n\")\n",
        "print(5+6+\" add two numbers\\n\")"
      ],
      "execution_count": 3,
      "outputs": [
        {
          "output_type": "stream",
          "text": [
            "Prints Multiple Messages\n",
            "\n",
            "concatenatetwo strings\n",
            "\n"
          ],
          "name": "stdout"
        },
        {
          "output_type": "error",
          "ename": "TypeError",
          "evalue": "ignored",
          "traceback": [
            "\u001b[0;31m---------------------------------------------------------------------------\u001b[0m",
            "\u001b[0;31mTypeError\u001b[0m                                 Traceback (most recent call last)",
            "\u001b[0;32m<ipython-input-3-e4d2b80a7bdf>\u001b[0m in \u001b[0;36m<module>\u001b[0;34m()\u001b[0m\n\u001b[1;32m      2\u001b[0m \u001b[0mprint\u001b[0m\u001b[0;34m(\u001b[0m\u001b[0;34m\"Prints\"\u001b[0m\u001b[0;34m,\u001b[0m\u001b[0;34m\"Multiple\"\u001b[0m\u001b[0;34m,\u001b[0m\u001b[0;34m\"Messages\\n\"\u001b[0m\u001b[0;34m)\u001b[0m\u001b[0;34m\u001b[0m\u001b[0;34m\u001b[0m\u001b[0m\n\u001b[1;32m      3\u001b[0m \u001b[0mprint\u001b[0m\u001b[0;34m(\u001b[0m\u001b[0;34m\"concatenate\"\u001b[0m\u001b[0;34m+\u001b[0m\u001b[0;34m\"two strings\\n\"\u001b[0m\u001b[0;34m)\u001b[0m\u001b[0;34m\u001b[0m\u001b[0;34m\u001b[0m\u001b[0m\n\u001b[0;32m----> 4\u001b[0;31m \u001b[0mprint\u001b[0m\u001b[0;34m(\u001b[0m\u001b[0;36m5\u001b[0m\u001b[0;34m+\u001b[0m\u001b[0;36m6\u001b[0m\u001b[0;34m+\u001b[0m\u001b[0;34m\" add two numbers\\n\"\u001b[0m\u001b[0;34m)\u001b[0m\u001b[0;34m\u001b[0m\u001b[0;34m\u001b[0m\u001b[0m\n\u001b[0m",
            "\u001b[0;31mTypeError\u001b[0m: unsupported operand type(s) for +: 'int' and 'str'"
          ]
        }
      ]
    },
    {
      "cell_type": "code",
      "metadata": {
        "id": "Va-M5x2239_o",
        "colab_type": "code",
        "colab": {
          "base_uri": "https://localhost:8080/",
          "height": 50
        },
        "outputId": "9c877bef-974c-4972-f46f-e18fa2d83f12"
      },
      "source": [
        "print(\"ba\"+\"na\"*2)\n",
        "print(r\"C:\\naresh\\raju\\abhi\")"
      ],
      "execution_count": 4,
      "outputs": [
        {
          "output_type": "stream",
          "text": [
            "banana\n",
            "C:\\naresh\\raju\\abhi\n"
          ],
          "name": "stdout"
        }
      ]
    },
    {
      "cell_type": "code",
      "metadata": {
        "id": "4qklbRUi49Q4",
        "colab_type": "code",
        "colab": {
          "base_uri": "https://localhost:8080/",
          "height": 50
        },
        "outputId": "7ea223a1-65bf-47a3-f5b6-89272de4f28e"
      },
      "source": [
        "#question 4\n",
        "print('Welcome to python traing program'[28:-40:-4])\n",
        "print('A series of charecters designated as one object known as a string'[2:18:5])\n"
      ],
      "execution_count": 6,
      "outputs": [
        {
          "output_type": "stream",
          "text": [
            "g anytoW\n",
            "sscc\n"
          ],
          "name": "stdout"
        }
      ]
    },
    {
      "cell_type": "code",
      "metadata": {
        "id": "TzlVg27l6gzx",
        "colab_type": "code",
        "colab": {
          "base_uri": "https://localhost:8080/",
          "height": 67
        },
        "outputId": "e81995e9-f28a-4d52-9a76-3507bbd45825"
      },
      "source": [
        "#question 5\n",
        "print('A series of charecters designated as one object known as a string'[::-1][4::3])\n",
        "print(\"--------------\")\n",
        "print('Welcome to python traing program'[3:10][::-1])"
      ],
      "execution_count": 7,
      "outputs": [
        {
          "output_type": "stream",
          "text": [
            "taawkcbe  tgestrcoeeA\n",
            "--------------\n",
            "ot emoc\n"
          ],
          "name": "stdout"
        }
      ]
    },
    {
      "cell_type": "code",
      "metadata": {
        "id": "vb542b2g6K1d",
        "colab_type": "code",
        "colab": {
          "base_uri": "https://localhost:8080/",
          "height": 50
        },
        "outputId": "8463aa64-1e8f-44ef-a102-c5f48ddfeafd"
      },
      "source": [
        "#question 6.a\n",
        "str1=True\n",
        "x= 5> 3\n",
        "print(str1==x)\n",
        "y= 5 > 8\n",
        "print(str1==y)"
      ],
      "execution_count": 10,
      "outputs": [
        {
          "output_type": "stream",
          "text": [
            "True\n",
            "False\n"
          ],
          "name": "stdout"
        }
      ]
    },
    {
      "cell_type": "code",
      "metadata": {
        "id": "3fXlyHAA8FpM",
        "colab_type": "code",
        "colab": {
          "base_uri": "https://localhost:8080/",
          "height": 34
        },
        "outputId": "33fe6157-678d-41ee-8867-7b8c11e76d18"
      },
      "source": [
        "#question 6.b\n",
        "num=7\n",
        "Name = \"Michael jackson\"\n",
        "sear_num = Name.find('el')\n",
        "print(num > sear_num )"
      ],
      "execution_count": 18,
      "outputs": [
        {
          "output_type": "stream",
          "text": [
            "True\n"
          ],
          "name": "stdout"
        }
      ]
    },
    {
      "cell_type": "code",
      "metadata": {
        "id": "iMqEE9zn9dDQ",
        "colab_type": "code",
        "colab": {
          "base_uri": "https://localhost:8080/",
          "height": 34
        },
        "outputId": "1ffbe8b3-06da-43f0-a158-af0d21c062d4"
      },
      "source": [
        "#question 7\n",
        "p_phrase=\"Was it a car or a cat I saw\"[27::-1]\n",
        "p_phrase.upper()"
      ],
      "execution_count": 41,
      "outputs": [
        {
          "output_type": "execute_result",
          "data": {
            "text/plain": [
              "'WAS I TAC A RO RAC A TI SAW'"
            ]
          },
          "metadata": {
            "tags": []
          },
          "execution_count": 41
        }
      ]
    },
    {
      "cell_type": "code",
      "metadata": {
        "id": "u2ZMqSzL-v2k",
        "colab_type": "code",
        "colab": {
          "base_uri": "https://localhost:8080/",
          "height": 34
        },
        "outputId": "1bf3729d-98a7-4cc5-e823-6de1980d9163"
      },
      "source": [
        "#question 8\n",
        "A='1934567'\n",
        "A[1::2]"
      ],
      "execution_count": 26,
      "outputs": [
        {
          "output_type": "execute_result",
          "data": {
            "text/plain": [
              "'946'"
            ]
          },
          "metadata": {
            "tags": []
          },
          "execution_count": 26
        }
      ]
    },
    {
      "cell_type": "code",
      "metadata": {
        "id": "tytDf9ds-8vT",
        "colab_type": "code",
        "colab": {
          "base_uri": "https://localhost:8080/",
          "height": 34
        },
        "outputId": "05a3568d-193d-4dd4-d7f2-612a35b81e24"
      },
      "source": [
        "#question 9\n",
        "fake_phrase=\" Fake news has a knack for spreading like wildfire\"[-10:15:-1]\n",
        "fake_phrase.upper().split()"
      ],
      "execution_count": 27,
      "outputs": [
        {
          "output_type": "execute_result",
          "data": {
            "text/plain": [
              "['EKIL', 'GNIDAERPS', 'ROF', 'KCANK']"
            ]
          },
          "metadata": {
            "tags": []
          },
          "execution_count": 27
        }
      ]
    },
    {
      "cell_type": "code",
      "metadata": {
        "id": "c6q6jr_5_W4U",
        "colab_type": "code",
        "colab": {
          "base_uri": "https://localhost:8080/",
          "height": 34
        },
        "outputId": "242ccf09-7238-4360-fd3d-7e5e71c54004"
      },
      "source": [
        "#question 10\n",
        "msg=\"Facebook already uses AI to Filter Fake stories from the feeds of users\"\n",
        "print(msg.split())"
      ],
      "execution_count": 28,
      "outputs": [
        {
          "output_type": "stream",
          "text": [
            "['Facebook', 'already', 'uses', 'AI', 'to', 'Filter', 'Fake', 'stories', 'from', 'the', 'feeds', 'of', 'users']\n"
          ],
          "name": "stdout"
        }
      ]
    },
    {
      "cell_type": "code",
      "metadata": {
        "id": "3PGh83UC_rjN",
        "colab_type": "code",
        "colab": {
          "base_uri": "https://localhost:8080/",
          "height": 67
        },
        "outputId": "dc847026-9bc3-42bb-9a8f-d63aa3539f6f"
      },
      "source": [
        "#question 11\n",
        "msg2=\"Welcome to sr engineering college\"\n",
        "x=msg2.count('o')\n",
        "y=msg2.count('r')\n",
        "print(x)\n",
        "print(y)\n",
        "#here the count(element) command count the number of reptations of the element specified within the brackets.\n",
        "msg[y**x:(x**y+x+y):][::-1]\n",
        "#In the above line the x and y values are taken from the lines mentioned be fore in this program.In the first square bracket ,1st element indicates lower boundary ,that is 9th position.2nd elements indicated the upper boundar y, that is 14th position.and next square bracket indicates the reverse order of the strings."
      ],
      "execution_count": 30,
      "outputs": [
        {
          "output_type": "stream",
          "text": [
            "3\n",
            "2\n"
          ],
          "name": "stdout"
        },
        {
          "output_type": "execute_result",
          "data": {
            "text/plain": [
              "'aerla '"
            ]
          },
          "metadata": {
            "tags": []
          },
          "execution_count": 30
        }
      ]
    },
    {
      "cell_type": "code",
      "metadata": {
        "id": "i0Zwrw-mB1bM",
        "colab_type": "code",
        "colab": {
          "base_uri": "https://localhost:8080/",
          "height": 34
        },
        "outputId": "f931bb70-b8b7-418c-c9c6-119bfd658529"
      },
      "source": [
        "#question 12.a\n",
        "num1,num2=\"94\",\"30\"\n",
        "data=\"As per census 2011, Gender ratio of India is 943 females per 1000 males\"\n",
        "num1+num2[0] in data"
      ],
      "execution_count": 31,
      "outputs": [
        {
          "output_type": "execute_result",
          "data": {
            "text/plain": [
              "True"
            ]
          },
          "metadata": {
            "tags": []
          },
          "execution_count": 31
        }
      ]
    },
    {
      "cell_type": "code",
      "metadata": {
        "id": "SZANxtNiCZzG",
        "colab_type": "code",
        "colab": {
          "base_uri": "https://localhost:8080/",
          "height": 50
        },
        "outputId": "0d6a1426-860d-4ff4-e663-d3bd522da0e0"
      },
      "source": [
        "#question 12.b\n",
        "print(data[:45],print(int(num1)+int(num2)))"
      ],
      "execution_count": 35,
      "outputs": [
        {
          "output_type": "stream",
          "text": [
            "124\n",
            "As per census 2011, Gender ratio of India is  None\n"
          ],
          "name": "stdout"
        }
      ]
    },
    {
      "cell_type": "code",
      "metadata": {
        "id": "CSX1biK1C2rr",
        "colab_type": "code",
        "colab": {
          "base_uri": "https://localhost:8080/",
          "height": 84
        },
        "outputId": "c262a007-56fd-431d-a9c6-6518263d1cd6"
      },
      "source": [
        "#question 13\n",
        "M=float(input('Amount of water in kgs'))\n",
        "intial=float(input('Initial Temperature in degreee celsius'))\n",
        "final=float(input('Final Temperature in degree celsius'))\n",
        "Q=4184*M*(final-intial)\n",
        "print(f'The energy required to heat water from an Initial to Final temperature is {Q} joules')"
      ],
      "execution_count": 37,
      "outputs": [
        {
          "output_type": "stream",
          "text": [
            "Amount of water in kgs100\n",
            "Initial Temperature in degreee celsius30\n",
            "Final Temperature in degree celsius130\n",
            "The energy required to heat water from an Initial to Final temperature is 41840000.0 joules\n"
          ],
          "name": "stdout"
        }
      ]
    },
    {
      "cell_type": "code",
      "metadata": {
        "id": "RzpwYUh4EWhu",
        "colab_type": "code",
        "colab": {
          "base_uri": "https://localhost:8080/",
          "height": 50
        },
        "outputId": "85f028e3-8ab9-4c4d-a781-8df8e42343d9"
      },
      "source": [
        "#question 14\n",
        "x=int(input('x'))\n",
        "y=x*2\n",
        "print(f\"The generated word is : {'z'*x+'o'*y}\")"
      ],
      "execution_count": 39,
      "outputs": [
        {
          "output_type": "stream",
          "text": [
            "x3\n",
            "The generated word is : zzzoooooo\n"
          ],
          "name": "stdout"
        }
      ]
    },
    {
      "cell_type": "code",
      "metadata": {
        "id": "evpHjTh_FBV1",
        "colab_type": "code",
        "colab": {
          "base_uri": "https://localhost:8080/",
          "height": 101
        },
        "outputId": "7ecbe97b-a8fb-47ed-ff71-86596bb26626"
      },
      "source": [
        "#question 15\n",
        "x=int(input('X'))\n",
        "y=int(input('Y'))\n",
        "pow=x**y\n",
        "print(pow)\n",
        "div=int(pow/(x*y))\n",
        "print(div)\n",
        "print(div^(x+y))"
      ],
      "execution_count": 40,
      "outputs": [
        {
          "output_type": "stream",
          "text": [
            "X6\n",
            "Y9\n",
            "10077696\n",
            "186624\n",
            "186639\n"
          ],
          "name": "stdout"
        }
      ]
    }
  ]
}